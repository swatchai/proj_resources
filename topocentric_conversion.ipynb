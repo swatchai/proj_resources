{
 "cells": [
  {
   "cell_type": "raw",
   "id": "13705208-2697-4af0-ad1c-0258a4a9121a",
   "metadata": {},
   "source": [
    "Prepared by:\n",
    "Swatchai Kriengkraipet"
   ]
  },
  {
   "cell_type": "markdown",
   "id": "c8716382-03d0-492b-8895-b433bb3f9780",
   "metadata": {},
   "source": [
    "### Topocentric Conversion"
   ]
  },
  {
   "cell_type": "raw",
   "id": "3ef3394a-e24e-47c1-88b3-fba3fcee8018",
   "metadata": {},
   "source": [
    "For help/usage of `cct`\n",
    "! cct -h"
   ]
  },
  {
   "cell_type": "code",
   "execution_count": 25,
   "id": "9eb75834-e94d-4947-9682-8b2fcedc2e12",
   "metadata": {},
   "outputs": [
    {
     "name": "stdout",
     "output_type": "stream",
     "text": [
      "  1081.680976    1106.388721     -0.188266       -0.0000\n"
     ]
    }
   ],
   "source": [
    "## Status: success\n",
    "## Conversion of geocentric coordinates to topocentric coordinates\n",
    "## Note: PROJ v8.0 or above only.\n",
    "## Option `-d 6` declares 6 places decimal number for output\n",
    "\n",
    "! echo -1130481.8931 6093598.8489 1501830.3669 | \\\n",
    "    /mybin/proj/bin/cct -d 6 +proj=topocentric +ellps=WGS84 +X_0=-1129466.1104 +Y_0=6094053.7967 +Z_0=1500755.5005"
   ]
  },
  {
   "cell_type": "code",
   "execution_count": 27,
   "id": "d04b7fcf-d110-4f52-8efa-c2a6b341378e",
   "metadata": {},
   "outputs": [
    {
     "name": "stdout",
     "output_type": "stream",
     "text": [
      "-1130481.89310  6093598.84890  1501830.36690        0.9966\n"
     ]
    }
   ],
   "source": [
    "## Inversion of the above\n",
    "## Note: PROJ v8.0 or above only.\n",
    "\n",
    "! echo 1081.680976    1106.388721     -0.188266       -0.0000 | \\\n",
    "    /mybin/proj/bin/cct -d 5 +proj=topocentric +ellps=WGS84 +X_0=-1129466.1104 +Y_0=6094053.7967 +Z_0=1500755.5005 +inv"
   ]
  },
  {
   "cell_type": "code",
   "execution_count": 28,
   "id": "2c047f09-0f68-4053-9c35-922a095818f7",
   "metadata": {},
   "outputs": [
    {
     "name": "stdout",
     "output_type": "stream",
     "text": [
      "-1130481.893066850  6093598.848949597  1501830.366850326     2020.0000\n"
     ]
    }
   ],
   "source": [
    "## From long-lat-h-t to ECEF-XYZ\n",
    "\n",
    "! echo 100.51 13.71 0 2020.0 | cct -d 9 +proj=cart +ellps=WGS84"
   ]
  },
  {
   "cell_type": "code",
   "execution_count": 22,
   "id": "a9606356-72e8-4c5c-abe4-92c1a5b23e1c",
   "metadata": {},
   "outputs": [
    {
     "name": "stdout",
     "output_type": "stream",
     "text": [
      " -0.000000002   -0.000000000  -0.000000000       -0.0000\n"
     ]
    }
   ],
   "source": [
    "## From ECEF-XYZ to ENU (+lat_0=13.71 +lon_0=100.51 +h_0=0)\n",
    "## Note: PROJ v8.0 or above only.\n",
    "## Check the validity of the previous result\n",
    "## Status: OK.\n",
    "\n",
    "! echo -1130481.893066850 6093598.848949597 1501830.366850326 2020.0000 | \\\n",
    "    /mybin/proj/bin/cct -d 9 +proj=topocentric +ellps=WGS84 +lat_0=13.71 +lon_0=100.51 +h_0=0\n",
    "\n",
    "## Expect: 0 0 0 0\n",
    "## At center of ENU, all are zero."
   ]
  },
  {
   "cell_type": "markdown",
   "id": "78028c35-d095-4d70-b87e-39c7d802ab95",
   "metadata": {},
   "source": [
    "### Two Step Conversion:- Long-lat-h to ENU"
   ]
  },
  {
   "cell_type": "markdown",
   "id": "5f7aa267-1a71-4dc5-befc-9e432ebf5ac0",
   "metadata": {},
   "source": [
    "Conversion steps:\n",
    "- +proj=cart +ellps=WGS84\n",
    "- +proj=topocentric"
   ]
  },
  {
   "cell_type": "raw",
   "id": "bdcdf178-4335-4083-99aa-e5d251381e40",
   "metadata": {},
   "source": [
    "Input\n",
    "! echo long lat h |\n",
    "\n",
    "PROJ string:\n",
    "  cct +proj=pipeline +ellps=WGS84\n",
    "  +step +proj=cart\n",
    "  +step +proj=topocentric +ellps=WGS84 +lat_0=13.71 +lon_0=100.51 +h_0=0"
   ]
  },
  {
   "cell_type": "markdown",
   "id": "1de87442-53ee-483e-8ea7-21a41582345a",
   "metadata": {},
   "source": [
    "#### Geodetic long-lat-h to ENU Conversion"
   ]
  },
  {
   "cell_type": "code",
   "execution_count": 46,
   "id": "5dcadd63-1589-4316-ad81-0e228959bd88",
   "metadata": {},
   "outputs": [
    {
     "name": "stdout",
     "output_type": "stream",
     "text": [
      "      -0.0000         0.0000       -0.0000           inf [Point attribute]\n"
     ]
    }
   ],
   "source": [
    "## This converts long-lat-h-t\n",
    "## to ENU (+lat_0=13.71 +lon_0=100.51 +h_0=0)\n",
    "## Requires: PROJ v8.0\n",
    "## Status: OK\n",
    "\n",
    "! echo 100.51  13.71  0  1998.0  \"[Point attribute]\" | \\\n",
    "/mybin/proj/bin/cct +proj=pipeline +ellps=WGS84 \\\n",
    "+step +proj=cart \\\n",
    "+step +proj=topocentric +ellps=WGS84 +lat_0=13.71 +lon_0=100.51 +h_0=0\n",
    "\n",
    "## Expect: 0 0 0 inf [Point attribute]\n",
    "## At the origin of ENU, coord are zero."
   ]
  },
  {
   "cell_type": "markdown",
   "id": "cfba3d86-35ce-4300-b41a-6099f19675a7",
   "metadata": {},
   "source": [
    "#### ENU to Geodetic long-lat-h Conversion"
   ]
  },
  {
   "cell_type": "markdown",
   "id": "a578d368-bc0e-4719-b082-1273ffed9cc7",
   "metadata": {},
   "source": [
    "How to create the PROJ string?\n",
    "- based off the direct PROJ string\n",
    "- reverse the sequence of the steps\n",
    "- add \"+inv\" to each \"+step\""
   ]
  },
  {
   "cell_type": "code",
   "execution_count": 45,
   "id": "ec65bed8-07dc-4812-84ce-08b8348428ad",
   "metadata": {},
   "outputs": [
    {
     "name": "stdout",
     "output_type": "stream",
     "text": [
      "100.5100000000   13.7100000000        0.0000        0.9966\n"
     ]
    }
   ],
   "source": [
    "## Inversion of the previous code cell\n",
    "## Steps are reversed, and `+inv` is add in each step\n",
    "\n",
    "! echo 0  0  0 | \\\n",
    "/mybin/proj/bin/cct +proj=pipeline +ellps=WGS84 \\\n",
    "+step +proj=topocentric +ellps=WGS84 +lat_0=13.71 +lon_0=100.51 +h_0=0 +inv \\\n",
    "+step +proj=cart +inv\n",
    "\n",
    "## Expect: 100.51 13.71 0\n",
    "## Status: almost perfect, (time component ?)"
   ]
  },
  {
   "cell_type": "markdown",
   "id": "b7b0da90-6118-43c1-a757-b6613ca0b57a",
   "metadata": {},
   "source": [
    "---"
   ]
  },
  {
   "cell_type": "code",
   "execution_count": 50,
   "id": "8a47a229-273b-45b7-8a13-316352aae058",
   "metadata": {},
   "outputs": [
    {
     "name": "stdout",
     "output_type": "stream",
     "text": [
      " 108.16763222   110.63690404   -0.00188253           inf\n"
     ]
    }
   ],
   "source": [
    "## At  lon_0 + 0.01,  lat_0 + 0.01\n",
    "## E and N will be around 110 meters\n",
    "\n",
    "! echo 100.511  13.711  0 | \\\n",
    "/mybin/proj/bin/cct -d 8 +proj=pipeline +ellps=WGS84 \\\n",
    "+step +proj=cart \\\n",
    "+step +proj=topocentric +ellps=WGS84 +lat_0=13.71 +lon_0=100.51 +h_0=0"
   ]
  },
  {
   "cell_type": "code",
   "execution_count": 51,
   "id": "4577e592-764b-4394-88f1-17a50880b063",
   "metadata": {},
   "outputs": [
    {
     "name": "stdout",
     "output_type": "stream",
     "text": [
      "100.5110000000   13.7110000000        0.0000        0.9966\n"
     ]
    }
   ],
   "source": [
    "## Inversion check of the previous code cell\n",
    "## Status: OK\n",
    "\n",
    "! echo 108.16763222   110.63690404   -0.00188253 | \\\n",
    "/mybin/proj/bin/cct +proj=pipeline +ellps=WGS84 \\\n",
    "+step +proj=topocentric +ellps=WGS84 +lat_0=13.71 +lon_0=100.51 +h_0=0 +inv \\\n",
    "+step +proj=cart +inv\n",
    "\n",
    "## Expect: 100.511  13.711  0\n",
    "## Forget the 4th component!"
   ]
  },
  {
   "cell_type": "markdown",
   "id": "442e79dd-5aa8-45e2-855a-51a6bcbc945d",
   "metadata": {},
   "source": [
    "---"
   ]
  },
  {
   "cell_type": "code",
   "execution_count": 31,
   "id": "41770858-3a19-47cf-853c-7c53c0ae860e",
   "metadata": {},
   "outputs": [
    {
     "name": "stdout",
     "output_type": "stream",
     "text": [
      "--------------------------------------------------------------------------------\n",
      "Usage: cct [-options]... [+operator_specs]... infile...\n",
      "--------------------------------------------------------------------------------\n",
      "Options:\n",
      "--------------------------------------------------------------------------------\n",
      "    -c x,y,z,t        Specify input columns for (up to) 4 input parameters.\n",
      "                      Defaults to 1,2,3,4\n",
      "    -d n              Specify number of decimals in output.\n",
      "    -I                Do the inverse transformation\n",
      "    -o /path/to/file  Specify output file name\n",
      "    -t value          Provide a fixed t value for all input data (e.g. -t 0)\n",
      "    -z value          Provide a fixed z value for all input data (e.g. -z 0)\n",
      "    -s n              Skip n first lines of a infile\n",
      "    -v                Verbose: Provide non-essential informational output.\n",
      "                      Repeat -v for more verbosity (e.g. -vv)\n",
      "--------------------------------------------------------------------------------\n",
      "Long Options:\n",
      "--------------------------------------------------------------------------------\n",
      "    --output          Alias for -o\n",
      "    --columns         Alias for -c\n",
      "    --decimals        Alias for -d\n",
      "    --height          Alias for -z\n",
      "    --time            Alias for -t\n",
      "    --verbose         Alias for -v\n",
      "    --inverse         Alias for -I\n",
      "    --skip-lines      Alias for -s\n",
      "    --help            Alias for -h\n",
      "    --version         Print version number\n",
      "--------------------------------------------------------------------------------\n",
      "Operator Specs:\n",
      "--------------------------------------------------------------------------------\n",
      "The operator specs describe the action to be performed by cct, e.g:\n",
      "\n",
      "        +proj=utm  +ellps=GRS80  +zone=32\n",
      "\n",
      "instructs cct to convert input data to Universal Transverse Mercator, zone 32\n",
      "coordinates, based on the GRS80 ellipsoid.\n",
      "\n",
      "Hence, the command\n",
      "\n",
      "        echo 12 55 | cct -z0 -t0 +proj=utm +zone=32 +ellps=GRS80\n",
      "\n",
      "Should give results comparable to the classic proj command\n",
      "\n",
      "        echo 12 55 | proj +proj=utm +zone=32 +ellps=GRS80\n",
      "--------------------------------------------------------------------------------\n",
      "Examples:\n",
      "--------------------------------------------------------------------------------\n",
      "1. convert geographical input to UTM zone 32 on the GRS80 ellipsoid:\n",
      "    cct +proj=utm +ellps=GRS80 +zone=32\n",
      "2. roundtrip accuracy check for the case above:\n",
      "    cct +proj=pipeline +proj=utm +ellps=GRS80 +zone=32 +step +step +inv\n",
      "3. as (1) but specify input columns for longitude, latitude, height and time:\n",
      "    cct -c 5,2,1,4  +proj=utm +ellps=GRS80 +zone=32\n",
      "4. as (1) but specify fixed height and time, hence needing only 2 cols in input:\n",
      "    cct -t 0 -z 0  +proj=utm  +ellps=GRS80  +zone=32\n",
      "--------------------------------------------------------------------------------\n"
     ]
    }
   ],
   "source": [
    "! cct -h"
   ]
  },
  {
   "cell_type": "code",
   "execution_count": null,
   "id": "c2785491-85e5-4cea-bf5f-45b7aed474d6",
   "metadata": {},
   "outputs": [],
   "source": []
  },
  {
   "cell_type": "code",
   "execution_count": null,
   "id": "4faf5c39-96b2-4722-9fca-1dd3757c3015",
   "metadata": {},
   "outputs": [],
   "source": []
  }
 ],
 "metadata": {
  "kernelspec": {
   "display_name": "Python 3",
   "language": "python",
   "name": "python3"
  },
  "language_info": {
   "codemirror_mode": {
    "name": "ipython",
    "version": 3
   },
   "file_extension": ".py",
   "mimetype": "text/x-python",
   "name": "python",
   "nbconvert_exporter": "python",
   "pygments_lexer": "ipython3",
   "version": "3.7.3"
  }
 },
 "nbformat": 4,
 "nbformat_minor": 5
}
