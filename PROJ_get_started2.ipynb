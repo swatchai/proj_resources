{
  "nbformat": 4,
  "nbformat_minor": 0,
  "metadata": {
    "colab": {
      "name": "PROJ_get-started2.ipynb",
      "provenance": [],
      "collapsed_sections": [],
      "authorship_tag": "ABX9TyNq4r8AdD4MecfkWmAfbn+6",
      "include_colab_link": true
    },
    "kernelspec": {
      "name": "python3",
      "display_name": "Python 3"
    },
    "language_info": {
      "name": "python"
    }
  },
  "cells": [
    {
      "cell_type": "markdown",
      "metadata": {
        "id": "view-in-github",
        "colab_type": "text"
      },
      "source": [
        "<a href=\"https://colab.research.google.com/github/swatchai/proj_resources/blob/main/PROJ_get_started2.ipynb\" target=\"_parent\"><img src=\"https://colab.research.google.com/assets/colab-badge.svg\" alt=\"Open In Colab\"/></a>"
      ]
    },
    {
      "cell_type": "markdown",
      "metadata": {
        "id": "xMIeGnFs0mwx"
      },
      "source": [
        "\n",
        "\n",
        "```\n",
        "This notebook is created and maintained by:\n",
        "***Swatchai Kriengkraipet***\n",
        "\n",
        "Package name: PROJ\n",
        "\n",
        "Current status:\n",
        "Install and use v4.9 successfully.\n",
        "\n",
        "TODO:\n",
        "To use more recent versions of PROJ one need to do:\n",
        "Compilation and installation from source code\n",
        "The classic way of installing PROJ is via the source code distribution. \n",
        "The most recent version is available from the download page.\n",
        "\n",
        "https://proj.org/install.html\n",
        "\n",
        "\n",
        "```\n",
        "\n"
      ]
    },
    {
      "cell_type": "markdown",
      "metadata": {
        "id": "1J_V-Dd202J-"
      },
      "source": [
        ""
      ]
    },
    {
      "cell_type": "code",
      "metadata": {
        "id": "MeiS3ecR0lnK"
      },
      "source": [
        "## This checks if PROJ is installec or not.\n",
        "## If nothing returns, you need to install it first before using.\n",
        "## Status: nothing returns, so that, you need to install it.\n",
        "\n",
        "! which proj"
      ],
      "execution_count": null,
      "outputs": []
    },
    {
      "cell_type": "code",
      "metadata": {
        "colab": {
          "base_uri": "https://localhost:8080/"
        },
        "id": "J2vG55hY2epf",
        "outputId": "0bbc5ec5-4695-4bbe-e08b-f912e98ee85c"
      },
      "source": [
        "## The simplest method to install PROJ\n",
        "## You wont get the most recent version of it.\n",
        "! apt install proj-bin"
      ],
      "execution_count": null,
      "outputs": [
        {
          "output_type": "stream",
          "text": [
            "Reading package lists... Done\n",
            "Building dependency tree       \n",
            "Reading state information... Done\n",
            "The following package was automatically installed and is no longer required:\n",
            "  libnvidia-common-460\n",
            "Use 'apt autoremove' to remove it.\n",
            "The following NEW packages will be installed:\n",
            "  proj-bin\n",
            "0 upgraded, 1 newly installed, 0 to remove and 40 not upgraded.\n",
            "Need to get 32.3 kB of archives.\n",
            "After this operation, 110 kB of additional disk space will be used.\n",
            "Get:1 http://archive.ubuntu.com/ubuntu bionic/universe amd64 proj-bin amd64 4.9.3-2 [32.3 kB]\n",
            "Fetched 32.3 kB in 0s (111 kB/s)\n",
            "Selecting previously unselected package proj-bin.\n",
            "(Reading database ... 148486 files and directories currently installed.)\n",
            "Preparing to unpack .../proj-bin_4.9.3-2_amd64.deb ...\n",
            "Unpacking proj-bin (4.9.3-2) ...\n",
            "Setting up proj-bin (4.9.3-2) ...\n",
            "Processing triggers for man-db (2.8.3-2ubuntu0.1) ...\n"
          ],
          "name": "stdout"
        }
      ]
    },
    {
      "cell_type": "code",
      "metadata": {
        "colab": {
          "base_uri": "https://localhost:8080/"
        },
        "id": "zW5qyYUR1XTU",
        "outputId": "6d469fb7-1cf7-4840-bd7d-2a4d717313a7"
      },
      "source": [
        "## Check if PROJ is ready to use\n",
        "## This time '/usr/bin/proj' is returned\n",
        "## That means you are ready to use it.\n",
        "! which proj"
      ],
      "execution_count": null,
      "outputs": [
        {
          "output_type": "stream",
          "text": [
            "/usr/bin/proj\n"
          ],
          "name": "stdout"
        }
      ]
    },
    {
      "cell_type": "code",
      "metadata": {
        "colab": {
          "base_uri": "https://localhost:8080/"
        },
        "id": "maOBMCx63DaG",
        "outputId": "c4848bae-495f-45a8-e8b0-bdfa873a4b9c"
      },
      "source": [
        "## This version (4.9.3 2016) of PROJ is out-of-date as you can see here.\n",
        "## But it can do many computations.\n",
        "! proj"
      ],
      "execution_count": null,
      "outputs": [
        {
          "output_type": "stream",
          "text": [
            "Rel. 4.9.3, 15 August 2016\n",
            "usage: proj [ -bCeEfiIlormsStTvVwW [args] ] [ +opts[=arg] ] [ files ]\n"
          ],
          "name": "stdout"
        }
      ]
    },
    {
      "cell_type": "code",
      "metadata": {
        "colab": {
          "base_uri": "https://localhost:8080/"
        },
        "id": "UOmVO80U2EPM",
        "outputId": "838da995-488f-47ef-e136-bb9e526c0626"
      },
      "source": [
        "## Conversion longlat_to_UTM conversion\n",
        "## Zone47 has +lon_0=99\n",
        "## Input: long, lat in degrees\n",
        "## Command line code to use: `proj +proj=utm +lon_0=9`\n",
        "## Output: easting, northing in meters\n",
        "\n",
        "! echo 99 16 | proj +proj=utm +lon_0=99"
      ],
      "execution_count": null,
      "outputs": [
        {
          "output_type": "stream",
          "text": [
            "500000.00\t1768935.38\n"
          ],
          "name": "stdout"
        }
      ]
    },
    {
      "cell_type": "code",
      "metadata": {
        "colab": {
          "base_uri": "https://localhost:8080/"
        },
        "id": "7JWbOsnb2EZn",
        "outputId": "84246ba7-32bd-4b44-bd2b-4406e9d20716"
      },
      "source": [
        "## Test\n",
        "! echo 55.2 12.2 | proj +proj=merc +lat_ts=56.5 +ellps=GRS80"
      ],
      "execution_count": null,
      "outputs": [
        {
          "output_type": "stream",
          "text": [
            "3399483.80\t752085.60\n"
          ],
          "name": "stdout"
        }
      ]
    },
    {
      "cell_type": "code",
      "metadata": {
        "colab": {
          "base_uri": "https://localhost:8080/"
        },
        "id": "_70kkcIF2EiD",
        "outputId": "c80b6cbd-7a27-4f74-cd78-f66564f55cf7"
      },
      "source": [
        "## Test\n",
        "! echo 3399483.80 752085.60 | cs2cs +proj=merc +lat_ts=56.5 +ellps=GRS80 +to +proj=utm +zone=32"
      ],
      "execution_count": null,
      "outputs": [
        {
          "output_type": "stream",
          "text": [
            "6103992.36\t1924052.47 0.00\n"
          ],
          "name": "stdout"
        }
      ]
    },
    {
      "cell_type": "code",
      "metadata": {
        "colab": {
          "base_uri": "https://localhost:8080/"
        },
        "id": "PjLNpjqM3-nn",
        "outputId": "720fdd1b-ee20-4803-f307-b0356af3e1c2"
      },
      "source": [
        "## You can also use `cs2cs`\n",
        "## This converts longlat_to_??\n",
        "! echo 56 12 | cs2cs +init=epsg:4326 +to +init=epsg:25832"
      ],
      "execution_count": null,
      "outputs": [
        {
          "output_type": "stream",
          "text": [
            "6231950.54\t1920310.71 0.00\n"
          ],
          "name": "stdout"
        }
      ]
    },
    {
      "cell_type": "code",
      "metadata": {
        "colab": {
          "base_uri": "https://localhost:8080/"
        },
        "id": "Xp-BeOvk3-ui",
        "outputId": "8e8cdd99-72cc-4b2c-9ceb-dfd1e5e6cfae"
      },
      "source": [
        "## You can't use: cct, gie, projinfo, projsync\n",
        "## But you can use 'proj', 'geod' and 'invgeod' of the famous geodesic library\n",
        "! which invgeod"
      ],
      "execution_count": null,
      "outputs": [
        {
          "output_type": "stream",
          "text": [
            "/usr/bin/invgeod\n"
          ],
          "name": "stdout"
        }
      ]
    },
    {
      "cell_type": "code",
      "metadata": {
        "colab": {
          "base_uri": "https://localhost:8080/"
        },
        "id": "hQzeydby3-0i",
        "outputId": "4a5b7130-24ed-4cea-9b8b-c34a113a503d"
      },
      "source": [
        "## Geodetic inverse problem\n",
        "## NOTE: The input format (lat1, long1, lat2, long2)\n",
        "## This is oppose to (long, lat) in 'proj'\n",
        "! echo 10 103 10.1 103.1 | invgeod +ellps=WGS84"
      ],
      "execution_count": null,
      "outputs": [
        {
          "output_type": "stream",
          "text": [
            "44d44'5.595\"\t-135d14'51.582\"\t15572.814\n"
          ],
          "name": "stdout"
        }
      ]
    },
    {
      "cell_type": "code",
      "metadata": {
        "colab": {
          "base_uri": "https://localhost:8080/"
        },
        "id": "YvY81wtK8mgS",
        "outputId": "c319b6f8-7287-4ae8-fd82-1ff1af43c69e"
      },
      "source": [
        "## Geodetic direct problem\n",
        "## Input: lat1, long1, azimuth12, distance12\n",
        "## Output: lat2, long2, azimuth21\n",
        "! echo 10 103\t44.75 15570 | geod +ellps=WGS84"
      ],
      "execution_count": null,
      "outputs": [
        {
          "output_type": "stream",
          "text": [
            "10d5'59.841\"N\t103d6'0.031\"E\t-135d13'57.172\"\n"
          ],
          "name": "stdout"
        }
      ]
    },
    {
      "cell_type": "code",
      "metadata": {
        "id": "eBd55oCW3-5d"
      },
      "source": [
        ""
      ],
      "execution_count": null,
      "outputs": []
    },
    {
      "cell_type": "code",
      "metadata": {
        "id": "Hl6xl8ig3-_q"
      },
      "source": [
        ""
      ],
      "execution_count": null,
      "outputs": []
    },
    {
      "cell_type": "markdown",
      "metadata": {
        "id": "OvZrDGkRC0V5"
      },
      "source": [
        "End-of-file"
      ]
    },
    {
      "cell_type": "markdown",
      "metadata": {
        "id": "OC1fPVdn2GMt"
      },
      "source": [
        "---"
      ]
    }
  ]
}