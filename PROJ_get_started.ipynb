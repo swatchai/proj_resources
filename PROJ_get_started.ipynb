{
  "nbformat": 4,
  "nbformat_minor": 0,
  "metadata": {
    "colab": {
      "name": "PROJ_get-started.ipynb",
      "provenance": [],
      "collapsed_sections": [],
      "authorship_tag": "ABX9TyO/N8+XgI5TFNOV7CnV8zQz",
      "include_colab_link": true
    },
    "kernelspec": {
      "name": "python3",
      "display_name": "Python 3"
    },
    "language_info": {
      "name": "python"
    }
  },
  "cells": [
    {
      "cell_type": "markdown",
      "metadata": {
        "id": "view-in-github",
        "colab_type": "text"
      },
      "source": [
        "<a href=\"https://colab.research.google.com/github/swatchai/proj_resources/blob/main/PROJ_get_started.ipynb\" target=\"_parent\"><img src=\"https://colab.research.google.com/assets/colab-badge.svg\" alt=\"Open In Colab\"/></a>"
      ]
    },
    {
      "cell_type": "markdown",
      "metadata": {
        "id": "xMIeGnFs0mwx"
      },
      "source": [
        "\n",
        "\n",
        "```\n",
        "This notebook is created and maintained by:\n",
        "***Swatchai Kriengkraipet***\n",
        "\n",
        "Package name: PROJ\n",
        "\n",
        "Current status:\n",
        "Install and use v4.9 successfully.\n",
        "\n",
        "TODO:\n",
        "To use more recent versions of PROJ one need to do:\n",
        "Compilation and installation from source code\n",
        "The classic way of installing PROJ is via the source code distribution. \n",
        "The most recent version is available from the download page.\n",
        "\n",
        "https://proj.org/install.html\n",
        "\n",
        "\n",
        "```\n",
        "\n"
      ]
    },
    {
      "cell_type": "markdown",
      "metadata": {
        "id": "1J_V-Dd202J-"
      },
      "source": [
        ""
      ]
    },
    {
      "cell_type": "code",
      "metadata": {
        "id": "MeiS3ecR0lnK"
      },
      "source": [
        "## This checks if PROJ is installec or not.\n",
        "## If nothing returns, you need to install it first before using.\n",
        "! which proj"
      ],
      "execution_count": null,
      "outputs": []
    },
    {
      "cell_type": "code",
      "metadata": {
        "colab": {
          "base_uri": "https://localhost:8080/"
        },
        "id": "J2vG55hY2epf",
        "outputId": "0bbc5ec5-4695-4bbe-e08b-f912e98ee85c"
      },
      "source": [
        "## The simplest method to install PROJ\n",
        "## You wont get the most recent version of it.\n",
        "! apt install proj-bin"
      ],
      "execution_count": null,
      "outputs": [
        {
          "output_type": "stream",
          "text": [
            "Reading package lists... Done\n",
            "Building dependency tree       \n",
            "Reading state information... Done\n",
            "The following package was automatically installed and is no longer required:\n",
            "  libnvidia-common-460\n",
            "Use 'apt autoremove' to remove it.\n",
            "The following NEW packages will be installed:\n",
            "  proj-bin\n",
            "0 upgraded, 1 newly installed, 0 to remove and 40 not upgraded.\n",
            "Need to get 32.3 kB of archives.\n",
            "After this operation, 110 kB of additional disk space will be used.\n",
            "Get:1 http://archive.ubuntu.com/ubuntu bionic/universe amd64 proj-bin amd64 4.9.3-2 [32.3 kB]\n",
            "Fetched 32.3 kB in 0s (111 kB/s)\n",
            "Selecting previously unselected package proj-bin.\n",
            "(Reading database ... 148486 files and directories currently installed.)\n",
            "Preparing to unpack .../proj-bin_4.9.3-2_amd64.deb ...\n",
            "Unpacking proj-bin (4.9.3-2) ...\n",
            "Setting up proj-bin (4.9.3-2) ...\n",
            "Processing triggers for man-db (2.8.3-2ubuntu0.1) ...\n"
          ],
          "name": "stdout"
        }
      ]
    },
    {
      "cell_type": "code",
      "metadata": {
        "colab": {
          "base_uri": "https://localhost:8080/"
        },
        "id": "zW5qyYUR1XTU",
        "outputId": "6d469fb7-1cf7-4840-bd7d-2a4d717313a7"
      },
      "source": [
        "## Check if PROJ is ready to use\n",
        "! which proj"
      ],
      "execution_count": null,
      "outputs": [
        {
          "output_type": "stream",
          "text": [
            "/usr/bin/proj\n"
          ],
          "name": "stdout"
        }
      ]
    },
    {
      "cell_type": "code",
      "metadata": {
        "colab": {
          "base_uri": "https://localhost:8080/"
        },
        "id": "maOBMCx63DaG",
        "outputId": "c4848bae-495f-45a8-e8b0-bdfa873a4b9c"
      },
      "source": [
        "## This version (4.9.3 2016) of PROJ is out-of-date as you can see here.\n",
        "! proj"
      ],
      "execution_count": null,
      "outputs": [
        {
          "output_type": "stream",
          "text": [
            "Rel. 4.9.3, 15 August 2016\n",
            "usage: proj [ -bCeEfiIlormsStTvVwW [args] ] [ +opts[=arg] ] [ files ]\n"
          ],
          "name": "stdout"
        }
      ]
    },
    {
      "cell_type": "code",
      "metadata": {
        "colab": {
          "base_uri": "https://localhost:8080/"
        },
        "id": "oHCyCIrh2A_-",
        "outputId": "4ee93e9a-aab4-414e-c047-223b297ecd39"
      },
      "source": [
        "! proj\n",
        "## usage: proj [ -bCeEfiIlormsStTvVwW [args] ] [ +opts[=arg] ] [ files ]"
      ],
      "execution_count": null,
      "outputs": [
        {
          "output_type": "stream",
          "text": [
            "Rel. 4.9.3, 15 August 2016\n",
            "usage: proj [ -bCeEfiIlormsStTvVwW [args] ] [ +opts[=arg] ] [ files ]\n"
          ],
          "name": "stdout"
        }
      ]
    },
    {
      "cell_type": "code",
      "metadata": {
        "colab": {
          "base_uri": "https://localhost:8080/"
        },
        "id": "UOmVO80U2EPM",
        "outputId": "838da995-488f-47ef-e136-bb9e526c0626"
      },
      "source": [
        "## Conversion longlat_to_UTM conversion\n",
        "## Zone47 has +lon_0=99\n",
        "! echo 99 16 | proj +proj=utm +lon_0=99"
      ],
      "execution_count": null,
      "outputs": [
        {
          "output_type": "stream",
          "text": [
            "500000.00\t1768935.38\n"
          ],
          "name": "stdout"
        }
      ]
    },
    {
      "cell_type": "code",
      "metadata": {
        "colab": {
          "base_uri": "https://localhost:8080/"
        },
        "id": "7JWbOsnb2EZn",
        "outputId": "84246ba7-32bd-4b44-bd2b-4406e9d20716"
      },
      "source": [
        "! echo 55.2 12.2 | proj +proj=merc +lat_ts=56.5 +ellps=GRS80"
      ],
      "execution_count": null,
      "outputs": [
        {
          "output_type": "stream",
          "text": [
            "3399483.80\t752085.60\n"
          ],
          "name": "stdout"
        }
      ]
    },
    {
      "cell_type": "code",
      "metadata": {
        "colab": {
          "base_uri": "https://localhost:8080/"
        },
        "id": "_70kkcIF2EiD",
        "outputId": "c80b6cbd-7a27-4f74-cd78-f66564f55cf7"
      },
      "source": [
        "! echo 3399483.80 752085.60 | cs2cs +proj=merc +lat_ts=56.5 +ellps=GRS80 +to +proj=utm +zone=32"
      ],
      "execution_count": null,
      "outputs": [
        {
          "output_type": "stream",
          "text": [
            "6103992.36\t1924052.47 0.00\n"
          ],
          "name": "stdout"
        }
      ]
    },
    {
      "cell_type": "code",
      "metadata": {
        "colab": {
          "base_uri": "https://localhost:8080/"
        },
        "id": "PjLNpjqM3-nn",
        "outputId": "720fdd1b-ee20-4803-f307-b0356af3e1c2"
      },
      "source": [
        "## You can also use `cs2cs`\n",
        "## This converts longlat_to_??\n",
        "! echo 56 12 | cs2cs +init=epsg:4326 +to +init=epsg:25832"
      ],
      "execution_count": null,
      "outputs": [
        {
          "output_type": "stream",
          "text": [
            "6231950.54\t1920310.71 0.00\n"
          ],
          "name": "stdout"
        }
      ]
    },
    {
      "cell_type": "code",
      "metadata": {
        "colab": {
          "base_uri": "https://localhost:8080/"
        },
        "id": "Xp-BeOvk3-ui",
        "outputId": "8e8cdd99-72cc-4b2c-9ceb-dfd1e5e6cfae"
      },
      "source": [
        "## You can't use: cct, gie, projinfo, projsync\n",
        "## But you can use 'geod' and 'invgeod' of the famous geodesic library\n",
        "! which invgeod"
      ],
      "execution_count": null,
      "outputs": [
        {
          "output_type": "stream",
          "text": [
            "/usr/bin/invgeod\n"
          ],
          "name": "stdout"
        }
      ]
    },
    {
      "cell_type": "code",
      "metadata": {
        "colab": {
          "base_uri": "https://localhost:8080/"
        },
        "id": "hQzeydby3-0i",
        "outputId": "4a5b7130-24ed-4cea-9b8b-c34a113a503d"
      },
      "source": [
        "## Geodetic inverse problem\n",
        "## NOTE: The input format (lat1, long1, lat2, long2)\n",
        "## This is oppose to (long, lat) in 'proj'\n",
        "! echo 10 103 10.1 103.1 | invgeod +ellps=WGS84"
      ],
      "execution_count": null,
      "outputs": [
        {
          "output_type": "stream",
          "text": [
            "44d44'5.595\"\t-135d14'51.582\"\t15572.814\n"
          ],
          "name": "stdout"
        }
      ]
    },
    {
      "cell_type": "code",
      "metadata": {
        "colab": {
          "base_uri": "https://localhost:8080/"
        },
        "id": "YvY81wtK8mgS",
        "outputId": "c319b6f8-7287-4ae8-fd82-1ff1af43c69e"
      },
      "source": [
        "## Geodetic direct problem\n",
        "## Input: lat1, long1, azimuth12, distance12\n",
        "## Output: lat2, long2, azimuth21\n",
        "! echo 10 103\t44.75 15570 | geod +ellps=WGS84"
      ],
      "execution_count": null,
      "outputs": [
        {
          "output_type": "stream",
          "text": [
            "10d5'59.841\"N\t103d6'0.031\"E\t-135d13'57.172\"\n"
          ],
          "name": "stdout"
        }
      ]
    },
    {
      "cell_type": "code",
      "metadata": {
        "id": "eBd55oCW3-5d"
      },
      "source": [
        ""
      ],
      "execution_count": null,
      "outputs": []
    },
    {
      "cell_type": "code",
      "metadata": {
        "id": "Hl6xl8ig3-_q"
      },
      "source": [
        ""
      ],
      "execution_count": null,
      "outputs": []
    },
    {
      "cell_type": "markdown",
      "metadata": {
        "id": "OC1fPVdn2GMt"
      },
      "source": [
        "---"
      ]
    },
    {
      "cell_type": "code",
      "metadata": {
        "id": "RfVPIN4A43sn"
      },
      "source": [
        "## ! apt remove proj-bin"
      ],
      "execution_count": null,
      "outputs": []
    },
    {
      "cell_type": "code",
      "metadata": {
        "colab": {
          "base_uri": "https://localhost:8080/"
        },
        "id": "CArAqowv4HPj",
        "outputId": "d29ae125-d280-45bd-ce57-fdec45681461"
      },
      "source": [
        "## Now we will attempt to install the more recent version of it.\n",
        "## Compilation and installation from source code\n",
        "\n",
        "! git clone https://github.com/OSGeo/PROJ"
      ],
      "execution_count": null,
      "outputs": [
        {
          "output_type": "stream",
          "text": [
            "Cloning into 'PROJ'...\n",
            "remote: Enumerating objects: 41309, done.\u001b[K\n",
            "remote: Counting objects: 100% (537/537), done.\u001b[K\n",
            "remote: Compressing objects: 100% (180/180), done.\u001b[K\n",
            "remote: Total 41309 (delta 383), reused 476 (delta 356), pack-reused 40772\u001b[K\n",
            "Receiving objects: 100% (41309/41309), 250.39 MiB | 33.65 MiB/s, done.\n",
            "Resolving deltas: 100% (31449/31449), done.\n"
          ],
          "name": "stdout"
        }
      ]
    },
    {
      "cell_type": "code",
      "metadata": {
        "colab": {
          "base_uri": "https://localhost:8080/"
        },
        "id": "gE2le3s56xwb",
        "outputId": "589fabe5-b43c-47e9-99d7-c9109223e191"
      },
      "source": [
        "! ls -la /content/PROJ/*.*"
      ],
      "execution_count": null,
      "outputs": [
        {
          "output_type": "stream",
          "text": [
            "-rw-r--r-- 1 root root  2273 Aug 21 13:50 /content/PROJ/appveyor.yml\n",
            "-rwxr-xr-x 1 root root   895 Aug 21 13:50 /content/PROJ/autogen.sh\n",
            "-rw-r--r-- 1 root root 12501 Aug 21 13:50 /content/PROJ/CMakeLists.txt\n",
            "-rw-r--r-- 1 root root  3407 Aug 21 13:50 /content/PROJ/CODE_OF_CONDUCT.md\n",
            "-rw-r--r-- 1 root root 17270 Aug 21 13:50 /content/PROJ/configure.ac\n",
            "-rw-r--r-- 1 root root  7157 Aug 21 13:50 /content/PROJ/CONTRIBUTING.md\n",
            "-rw-r--r-- 1 root root   412 Aug 21 13:50 /content/PROJ/Makefile.am\n",
            "-rw-r--r-- 1 root root   344 Aug 21 13:50 /content/PROJ/proj.pc.in\n",
            "-rw-r--r-- 1 root root  3823 Aug 21 13:50 /content/PROJ/README.md\n"
          ],
          "name": "stdout"
        }
      ]
    },
    {
      "cell_type": "code",
      "metadata": {
        "colab": {
          "base_uri": "https://localhost:8080/"
        },
        "id": "PKWOpBr38V7o",
        "outputId": "198fa957-db33-4a13-d141-b324c5e1d533"
      },
      "source": [
        "! ls /content/PROJ/*.sh"
      ],
      "execution_count": null,
      "outputs": [
        {
          "output_type": "stream",
          "text": [
            "/content/PROJ/autogen.sh\n"
          ],
          "name": "stdout"
        }
      ]
    },
    {
      "cell_type": "code",
      "metadata": {
        "id": "wHLLWkcy8bb8"
      },
      "source": [
        "! cd /content/PROJ/"
      ],
      "execution_count": null,
      "outputs": []
    },
    {
      "cell_type": "code",
      "metadata": {
        "colab": {
          "base_uri": "https://localhost:8080/"
        },
        "id": "GVGHuoez8djK",
        "outputId": "2f112f06-1661-46be-e352-47dcc8df05d9"
      },
      "source": [
        "! pwd"
      ],
      "execution_count": null,
      "outputs": [
        {
          "output_type": "stream",
          "text": [
            "/content\n"
          ],
          "name": "stdout"
        }
      ]
    },
    {
      "cell_type": "code",
      "metadata": {
        "id": "aGuHufu0BZ7J"
      },
      "source": [
        "## Conclusion: not able to run the script."
      ],
      "execution_count": null,
      "outputs": []
    }
  ]
}